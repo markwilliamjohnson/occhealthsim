{
 "cells": [
  {
   "cell_type": "markdown",
   "id": "115a98b6",
   "metadata": {},
   "source": [
    "# Papers on Systems and Cybernetics"
   ]
  },
  {
   "cell_type": "markdown",
   "id": "7712ae27",
   "metadata": {},
   "source": [
    "# "
   ]
  },
  {
   "cell_type": "markdown",
   "id": "f5f3d16f",
   "metadata": {},
   "source": [
    "## AI in Healthcare\n",
    "\n",
    "Johnson, M., & Saleh, R. (2022). The guts of assessment: a digital architecture for machine learning and analogue judgement. Interactive Learning Environments, 1–15. https://doi.org/10.1080/10494820.2022.2135105\n",
    "\n",
    "\n",
    "\n",
    "## Digitalisation\n",
    "\n",
    "Johnson, M. W., Suvorova, E. A., & Karelina, A. A. (2022). Digitalization and Uncertainty in the University: Coherence and Collegiality Through a Metacurriculum. Postdigital Science and Education, 4(3), 772–792. https://doi.org/10.1007/s42438-022-00324-1\n",
    "\n",
    "Johnson, M. (2023). Postdigital Practical Axiology. Postdigital Science and Education, 129–151. https://doi.org/10.1007/978-3-031-31299-1_8\n",
    "\n",
    "\n",
    "\n",
    "## Education\n"
   ]
  }
 ],
 "metadata": {
  "kernelspec": {
   "display_name": "Python 3 (ipykernel)",
   "language": "python",
   "name": "python3"
  },
  "language_info": {
   "codemirror_mode": {
    "name": "ipython",
    "version": 3
   },
   "file_extension": ".py",
   "mimetype": "text/x-python",
   "name": "python",
   "nbconvert_exporter": "python",
   "pygments_lexer": "ipython3",
   "version": "3.11.4"
  }
 },
 "nbformat": 4,
 "nbformat_minor": 5
}
