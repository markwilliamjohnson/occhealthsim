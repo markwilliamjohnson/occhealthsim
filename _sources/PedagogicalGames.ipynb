{
 "cells": [
  {
   "cell_type": "markdown",
   "id": "1989735c",
   "metadata": {},
   "source": [
    "# Drama generator\n",
    "\n",
    "## Background\n",
    "\n",
    "## Tool\n",
    "<iframe src=\"http://13.40.150.219:9912/\"   style=\"transform: scale(0.7); transform-origin:0 0; width:880px;height: 600px;\"></iframe>"
   ]
  }
 ],
 "metadata": {
  "kernelspec": {
   "display_name": "Python 3 (ipykernel)",
   "language": "python",
   "name": "python3"
  },
  "language_info": {
   "codemirror_mode": {
    "name": "ipython",
    "version": 3
   },
   "file_extension": ".py",
   "mimetype": "text/x-python",
   "name": "python",
   "nbconvert_exporter": "python",
   "pygments_lexer": "ipython3",
   "version": "3.11.4"
  }
 },
 "nbformat": 4,
 "nbformat_minor": 5
}
