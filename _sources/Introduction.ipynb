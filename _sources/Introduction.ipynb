{
 "cells": [
  {
   "cell_type": "markdown",
   "id": "684737cf",
   "metadata": {},
   "source": [
    "# ChatGPT Simulation Models in Health"
   ]
  },
  {
   "cell_type": "markdown",
   "id": "725a6403",
   "metadata": {},
   "source": [
    "\n",
    "### What is ChatGPT?\n",
    "\n",
    "Like all AI, chatGPT is a technology which **makes predictions about data it hasn't seen before.**\n",
    "\n",
    "In healthcare, there have been many image-based technologies which can make predictions about the likelihood of cancer, or eye disease, or heart problems. \n",
    "\n",
    "The predictions made by these technologies are predictions about the likely **\"label\"** or **class** of data which best fits the new data that is presented to the system.\n",
    "\n",
    "chatGPT doesn't predict a label, but instead predicts **the next word** in the sequence of words that is presented to it. \n",
    "\n"
   ]
  },
  {
   "cell_type": "markdown",
   "id": "9bf1362d",
   "metadata": {},
   "source": [
    "# Occupational Health Virtual Patient\n",
    "\n",
    "## Background\n",
    "\n",
    "## Tool\n",
    "<iframe src=\"http://13.40.150.219:8889/\"   style=\"transform: scale(0.7); transform-origin:0 0; width:880px;height: 600px;\"></iframe>"
   ]
  },
  {
   "cell_type": "markdown",
   "id": "ad4d330d",
   "metadata": {},
   "source": [
    "# Breast Cancer Virtual Patient\n",
    "\n",
    "## Background\n",
    "\n",
    "## Tool\n",
    "<iframe src=\"http://13.40.150.219:8899/\"   style=\"transform: scale(0.7); transform-origin:0 0; width:880px;height: 600px;\"></iframe>"
   ]
  },
  {
   "cell_type": "markdown",
   "id": "f21f779c",
   "metadata": {},
   "source": [
    "# Drama generator\n",
    "\n",
    "## Background\n",
    "\n",
    "## Tool\n",
    "<iframe src=\"http://13.40.150.219:9912/\"   style=\"transform: scale(0.7); transform-origin:0 0; width:880px;height: 600px;\"></iframe>"
   ]
  }
 ],
 "metadata": {
  "kernelspec": {
   "display_name": "Python 3 (ipykernel)",
   "language": "python",
   "name": "python3"
  },
  "language_info": {
   "codemirror_mode": {
    "name": "ipython",
    "version": 3
   },
   "file_extension": ".py",
   "mimetype": "text/x-python",
   "name": "python",
   "nbconvert_exporter": "python",
   "pygments_lexer": "ipython3",
   "version": "3.11.4"
  }
 },
 "nbformat": 4,
 "nbformat_minor": 5
}
