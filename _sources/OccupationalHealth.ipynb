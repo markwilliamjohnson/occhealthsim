{
 "cells": [
  {
   "cell_type": "markdown",
   "id": "0531a25a",
   "metadata": {},
   "source": [
    "# Occupational Health Virtual Patient\n",
    "\n",
    "## Background\n",
    "This tool creates a virtual \"person\" working in an industry of the user's choice. On typing in the industry name, and choosing whether to do an \"occupational health\" example, or a \"occupational medicine\" example, the system will generate a \n",
    "**backstory** for the patient.\n",
    "\n",
    "The patient will then introduce themselves to the user, who either plays an **occupational hygienist** or an **occupational doctor**. \n",
    "\n",
    "## Tool\n",
    "<iframe src=\"http://13.40.150.219:8889/\"   style=\"transform: scale(0.7); transform-origin:0 0; width:880px;height: 600px;\"></iframe>"
   ]
  }
 ],
 "metadata": {
  "kernelspec": {
   "display_name": "Python 3 (ipykernel)",
   "language": "python",
   "name": "python3"
  },
  "language_info": {
   "codemirror_mode": {
    "name": "ipython",
    "version": 3
   },
   "file_extension": ".py",
   "mimetype": "text/x-python",
   "name": "python",
   "nbconvert_exporter": "python",
   "pygments_lexer": "ipython3",
   "version": "3.11.4"
  }
 },
 "nbformat": 4,
 "nbformat_minor": 5
}
